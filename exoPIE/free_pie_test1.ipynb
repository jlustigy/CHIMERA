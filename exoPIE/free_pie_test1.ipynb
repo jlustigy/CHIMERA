{
 "cells": [
  {
   "cell_type": "code",
   "execution_count": 1,
   "metadata": {},
   "outputs": [
    {
     "name": "stderr",
     "output_type": "stream",
     "text": [
      "/Users/lustija1/opt/anaconda3/lib/python3.8/site-packages/pysynphot/locations.py:345: UserWarning: Extinction files not found in /Users/lustija1/Documents/PandExo_data/pysynphot_data/extinction\n",
      "  warnings.warn('Extinction files not found in %s' % (extdir, ))\n",
      "/Users/lustija1/opt/anaconda3/lib/python3.8/site-packages/pysynphot/refs.py:117: UserWarning: No graph or component tables found; functionality will be SEVERELY crippled. No files found for /Users/lustija1/Documents/PandExo_data/pysynphot_data/mtab/*_tmg.fits\n",
      "  warnings.warn('No graph or component tables found; '\n",
      "/Users/lustija1/opt/anaconda3/lib/python3.8/site-packages/pysynphot/refs.py:124: UserWarning: No thermal tables found, no thermal calculations can be performed. No files found for /Users/lustija1/Documents/PandExo_data/pysynphot_data/mtab/*_tmt.fits\n",
      "  warnings.warn('No thermal tables found, '\n"
     ]
    }
   ],
   "source": [
    "%matplotlib inline\n",
    "%config InlineBackend.figure_format = \"retina\"\n",
    "\n",
    "# Import standard libraries\n",
    "import os, sys\n",
    "import numpy as np\n",
    "import scipy as sp\n",
    "import matplotlib as mpl\n",
    "import matplotlib.pyplot as plt\n",
    "import copy\n",
    "import astropy.units as u\n",
    "import emcee, corner\n",
    "import seaborn as sns\n",
    "import pandas as pd\n",
    "\n",
    "import chimera\n",
    "\n",
    "import coronagraph as cg\n",
    "import smart\n",
    "import smarter; smarter.utils.plot_setup()"
   ]
  },
  {
   "cell_type": "code",
   "execution_count": 2,
   "metadata": {},
   "outputs": [
    {
     "name": "stdout",
     "output_type": "stream",
     "text": [
      "Loading Synthetic Data and xsecs...\n"
     ]
    }
   ],
   "source": [
    "from run_wasp43_mcmc import *"
   ]
  },
  {
   "cell_type": "code",
   "execution_count": 3,
   "metadata": {},
   "outputs": [],
   "source": [
    "class Gas(object):\n",
    "    \n",
    "    def __init__(self, default = -15.0, **kwargs):\n",
    "        \n",
    "        # Unpacking gas scale factors\n",
    "        self.H2O = kwargs.get(\"H2O\", default)\n",
    "        self.CH4 = kwargs.get(\"CH4\", default)\n",
    "        self.CO = kwargs.get(\"CO\", default)\n",
    "        self.CO2 = kwargs.get(\"CO2\", default)\n",
    "        self.NH3 = kwargs.get(\"NH3\", default)\n",
    "        self.N2 = kwargs.get(\"N2\", default)\n",
    "        self.HCN = kwargs.get(\"HCN\", default)\n",
    "        self.H2S = kwargs.get(\"H2S\", default)\n",
    "        self.PH3 = kwargs.get(\"PH3\", default)\n",
    "        self.C2H2 = kwargs.get(\"C2H2\", default)\n",
    "        self.C2H6 = kwargs.get(\"C2H6\", default)\n",
    "        self.Na = kwargs.get(\"Na\", default)\n",
    "        self.K = kwargs.get(\"K\", default)\n",
    "        self.TiO = kwargs.get(\"TiO\", default)\n",
    "        self.VO = kwargs.get(\"VO\", default)\n",
    "        self.FeH = kwargs.get(\"FeH\", default)\n",
    "        self.H = kwargs.get(\"H\", default)\n",
    "        self.H2 = kwargs.get(\"H2\", default)\n",
    "        self.He = kwargs.get(\"He\", default)\n",
    "        self.em = kwargs.get(\"em\", default)\n",
    "        self.hm = kwargs.get(\"hm\", default)\n",
    "        self.mmw = kwargs.get(\"mmw\", default)\n",
    "        \n",
    "        return\n",
    "    \n",
    "    def get_gas_scale(self):\n",
    "        gas_scale = np.array([self.H2O, self.CH4, self.CO, self.CO2, self.NH3,\n",
    "                              self.N2, self.HCN, self.H2S, self.PH3, self.C2H2,\n",
    "                              self.C2H6, self.Na, self.K, self.TiO, self.VO,\n",
    "                              self.FeH, self.H, self.H2, self.He, self.em, self.hm, \n",
    "                              self.mmw])\n",
    "        return gas_scale"
   ]
  },
  {
   "cell_type": "code",
   "execution_count": 4,
   "metadata": {},
   "outputs": [
    {
     "data": {
      "text/plain": [
       "array([1., 1., 1., 1., 1., 1., 1., 1., 1., 1., 1., 1., 1., 1., 1., 1., 1.,\n",
       "       1., 1., 1., 1., 1.])"
      ]
     },
     "execution_count": 4,
     "metadata": {},
     "output_type": "execute_result"
    }
   ],
   "source": [
    "gases = Gas(default=1.0)\n",
    "gases.get_gas_scale()"
   ]
  },
  {
   "cell_type": "code",
   "execution_count": 6,
   "metadata": {},
   "outputs": [],
   "source": [
    "\"\"\"\n",
    "FORWARD MODEL & LIKELIHOOD\n",
    "\"\"\"\n",
    "\n",
    "# Initialize as empty\n",
    "THETA_NAMES = []\n",
    "\n",
    "# Initial conditions\n",
    "THETA_DEFAULTS = {\n",
    "    \"Rp\" : 0.93,\n",
    "    \"Rstar\" : 0.6629, #0.6,\n",
    "    \"M\" : 1.776,\n",
    "    \"D\" : 0.014,\n",
    "    \"Tirr\" : 1000,\n",
    "    \"logKir\" : -1.5,\n",
    "    \"logg1\" : -0.7,\n",
    "    \"Tint\" : 200,\n",
    "    \"logMet\" : 0.0, #2.0,\n",
    "    \"logCtoO\": -0.26, #-1.0,\n",
    "    \"logPQCarbon\" : -5.5,\n",
    "    \"logPQNitrogen\" : -5.5,\n",
    "    \"logKzz\" : 7,\n",
    "    \"fsed\" : 2.0,\n",
    "    \"logPbase\" : -1.0,\n",
    "    \"logCldVMR\" : -5.5,\n",
    "    \"logKcld\" : -40,\n",
    "    \"logRayAmp\" : -30,\n",
    "    \"RaySlope\" : 0,\n",
    "    \"Teff\" : 4305.0, #4400.,\n",
    "    \"logMH\" : -0.05,\n",
    "    \"logg\" : 4.646,\n",
    "    \"d\" : 86.7467#80.0\n",
    "}\n",
    "\n",
    "GAS_LIST = [\n",
    "    \"H2O\", \"CH4\", \"CO\", \"CO2\", \"NH3\", \"N2\", \"HCN\", \"H2S\", \"PH3\",  \n",
    "    \"C2H2\", \"C2H6\", \"Na\", \"K\", \"TiO\", \"VO\", \"FeH\", \"H\", \"H2\", \"He\", \n",
    "    \"em\", \"hm\", \"mmw\"\n",
    "]\n",
    "\n",
    "GAS_DEFAULTS = {\n",
    "    gas : 1.0\n",
    "    for gas in GAS_LIST\n",
    "}\n",
    "\n",
    "def run_pie_model_general(theta):\n",
    "    \"\"\"\n",
    "    \"\"\"\n",
    "\n",
    "    # Create dictionary\n",
    "    theta_dict = dict(zip(THETA_NAMES, theta))\n",
    "\n",
    "    # Unpack parameters to retrieve if they are in state vector\n",
    "    # otherwise use the default fixed values\n",
    "\n",
    "    #setup \"input\" parameters. We are defining our 1D atmosphere with these\n",
    "    #the parameters\n",
    "    #planet/star system params--xRp is the \"Rp\" free parameter, M right now is fixed, but could be free param\n",
    "    Rp = theta_dict.get(\"Rp\", THETA_DEFAULTS[\"Rp\"])      # Planet radius in Jupiter Radii--this will be forced to be 10 bar radius--arbitrary (scaling to this is free par)\n",
    "    Rstar = theta_dict.get(\"Rstar\", THETA_DEFAULTS[\"Rstar\"]) # Stellar Radius in Solar Radii\n",
    "    M = theta_dict.get(\"M\", THETA_DEFAULTS[\"M\"])       # Mass in Jupiter Masses\n",
    "    D=theta_dict.get(\"D\", THETA_DEFAULTS[\"D\"])        # Semimajor axis in AU--for reflected light component\n",
    "\n",
    "    #TP profile params (3--Guillot 2010, Parmentier & Guillot 2013--see Line et al. 2013a for implementation)\n",
    "    Tirr=theta_dict.get(\"Tirr\", THETA_DEFAULTS[\"Tirr\"])       # Irradiation temperature as defined in Guillot 2010\n",
    "    logKir=theta_dict.get(\"logKir\", THETA_DEFAULTS[\"logKir\"])   # TP profile IR opacity (log there-of) controlls the \"vertical\" location of the gradient\n",
    "    logg1=theta_dict.get(\"logg1\", THETA_DEFAULTS[\"logg1\"])     # single channel Vis/IR (log) opacity. Controls the delta T between deep T and TOA T\n",
    "    Tint=theta_dict.get(\"Tint\", THETA_DEFAULTS[\"Tint\"])        # interior temperature...this would be the \"effective temperature\" if object were not irradiated\n",
    "\n",
    "    #Composition parameters---assumes \"chemically consistent model\" described in Kreidberg et al. 2015\n",
    "    logMet=theta_dict.get(\"logMet\", THETA_DEFAULTS[\"logMet\"])                # Metallicity relative to solar log--solar is 0, 10x=1, 0.1x = -1: valid range is -1.5 - 3.0\n",
    "    logCtoO=theta_dict.get(\"logCtoO\", THETA_DEFAULTS[\"logCtoO\"])            # log C-to-O ratio: log solar is -0.26: valid range is -1.0 - 0.3\n",
    "    logPQCarbon=theta_dict.get(\"logPQCarbon\", THETA_DEFAULTS[\"logPQCarbon\"])     # CH4, CO, H2O Qunech pressure--forces CH4, CO, and H2O to constant value at quench pressure value: valid range -6.0 - 1.5\n",
    "    logPQNitrogen=theta_dict.get(\"logPQNitrogen\", THETA_DEFAULTS[\"logPQNitrogen\"]) # N2, NH3 Quench pressure--forces N2 and NH3 to \"\"\n",
    "\n",
    "    #Ackerman & Marley 2001 Cloud parameters--physically motivated with Mie particles\n",
    "    logKzz=theta_dict.get(\"logKzz\", THETA_DEFAULTS[\"logKzz\"])          # log Kzz (cm2/s)--valid range: 2 - 11 -- higher values make larger particles\n",
    "    fsed=theta_dict.get(\"fsed\", THETA_DEFAULTS[\"fsed\"])            # sediminetation efficiency--valid range: 0.5 - 5--lower values make \"puffier\" more extended cloud\n",
    "    logPbase=theta_dict.get(\"logPbase\", THETA_DEFAULTS[\"logPbase\"])   # cloud base pressure--valid range: -6.0 - 1.5\n",
    "    logCldVMR=theta_dict.get(\"logCldVMR\", THETA_DEFAULTS[\"logCldVMR\"]) # cloud condensate base mixing ratio (e.g, see Fortney 2005)--valid range: -15 - -2.0\n",
    "\n",
    "    #simple 'grey+rayleigh' parameters just in case you don't want to use a physically motivated cloud\n",
    "    #(most are just made up anyway since we don't really understand all of the micro-physics.....)\n",
    "    logKcld = theta_dict.get(\"logKcld\", THETA_DEFAULTS[\"logKcld\"])      # uniform in altitude and in wavelength \"grey\" opacity (it's a cross-section)--valid range: -50 - -10\n",
    "    logRayAmp = theta_dict.get(\"logRayAmp\", THETA_DEFAULTS[\"logRayAmp\"])  # power-law haze amplitude (log) as defined in des Etangs 2008 \"0\" would be like H2/He scat--valid range: -30 - 3\n",
    "    RaySlope = theta_dict.get(\"RaySlope\", THETA_DEFAULTS[\"RaySlope\"])      # power law index 4 for Rayleigh, 0 for \"gray\".  Valid range: 0 - 6\n",
    "\n",
    "    # Stellar parameters\n",
    "    Teff = theta_dict.get(\"Teff\", THETA_DEFAULTS[\"Teff\"])     # Stellar effective temperature [K]\n",
    "    logMH = theta_dict.get(\"logMH\", THETA_DEFAULTS[\"logMH\"])   # Stellar metallicity\n",
    "    logg = theta_dict.get(\"logg\", THETA_DEFAULTS[\"logg\"])     # Stellar log gravity\n",
    "    d = theta_dict.get(\"d\", THETA_DEFAULTS[\"d\"])            # Stellar distance\n",
    "\n",
    "    #unpacking parameters to retrieve (these override the fixed values above)\n",
    "    #Teff, Tirr, logKir, logg1 = theta\n",
    "\n",
    "    #stuffing all variables into state vector array\n",
    "    x=np.array([Tirr, logKir,logg1, Tint, logMet, logCtoO, logPQCarbon,logPQNitrogen, Rp, Rstar, M, D, logKzz, fsed,logPbase,logCldVMR, logKcld, logRayAmp, RaySlope, Teff, logMH, logg, d])\n",
    "\n",
    "    # Unpacking gas scale factors\n",
    "    #H2O = theta_dict.get(\"H2O\", GAS_DEFAULTS[\"H2O\"])\n",
    "    #CH4 = theta_dict.get(\"CH4\", GAS_DEFAULTS[\"CH4\"])\n",
    "    #CO = theta_dict.get(\"CO\", GAS_DEFAULTS[\"CO\"])\n",
    "    #CO2 = theta_dict.get(\"CO2\", GAS_DEFAULTS[\"CO2\"])\n",
    "    #NH3 = theta_dict.get(\"NH3\", GAS_DEFAULTS[\"NH3\"])\n",
    "    #N2 = theta_dict.get(\"N2\", GAS_DEFAULTS[\"N2\"])\n",
    "    #HCN = theta_dict.get(\"HCN\", GAS_DEFAULTS[\"HCN\"])\n",
    "    #H2S = theta_dict.get(\"H2S\", GAS_DEFAULTS[\"H2S\"])\n",
    "    #PH3 = theta_dict.get(\"PH3\", GAS_DEFAULTS[\"PH3\"])\n",
    "    #C2H2 = theta_dict.get(\"C2H2\", GAS_DEFAULTS[\"C2H2\"])\n",
    "    #C2H6 = theta_dict.get(\"C2H6\", GAS_DEFAULTS[\"C2H6\"])\n",
    "    #Na = theta_dict.get(\"Na\", GAS_DEFAULTS[\"Na\"])\n",
    "    #K = theta_dict.get(\"K\", GAS_DEFAULTS[\"K\"])\n",
    "    #TiO = theta_dict.get(\"TiO\", GAS_DEFAULTS[\"TiO\"])\n",
    "    #VO = theta_dict.get(\"VO\", GAS_DEFAULTS[\"VO\"])\n",
    "    #FeH = theta_dict.get(\"FeH\", GAS_DEFAULTS[\"FeH\"])\n",
    "    #H = theta_dict.get(\"H\", GAS_DEFAULTS[\"H\"])\n",
    "    #H2 = theta_dict.get(\"H2\", GAS_DEFAULTS[\"H2\"])\n",
    "    #He = theta_dict.get(\"He\", GAS_DEFAULTS[\"He\"])\n",
    "    #em = theta_dict.get(\"em\", GAS_DEFAULTS[\"em\"])\n",
    "    #hm = theta_dict.get(\"hm\", GAS_DEFAULTS[\"hm\"])\n",
    "    #mmw = theta_dict.get(\"mmw\", GAS_DEFAULTS[\"mmw\"])\n",
    "    \n",
    "    #gas scaling factors to mess with turning on various species\n",
    "    # 0   1    2    3   4    5    6     7    8    9   10    11   12   13    14   15   16   17   18  19 20   21\n",
    "    #H2O  CH4  CO  CO2 NH3  N2   HCN   H2S  PH3  C2H2 C2H6  Na    K   TiO   VO   FeH  H    H2   He   e- h-  mmw\n",
    "    #gas_scale=np.array([1.,1.,1.,1.,1.,1.,1.,1.,1.,1.,1.,1.,1.,1.,1.,1.,1.,1.,1.,1., 1., 1.]) #can be made free params if desired (won't affect mmw)#can be made free params if desired (won't affect mmw)\n",
    "    #gas_scale=np.array([H2O,CH4,CO,CO2,NH3,N2,HCN,H2S,PH3,C2H2,C2H6,Na,K,TiO,VO ,FeH,H,-50.,-50.,em, hm,-50.]) #\n",
    "    \n",
    "    # Unpack gas scale factors\n",
    "    gases = Gas(default=-15.0, **theta_dict)\n",
    "    gas_scale = gases.get_gas_scale()\n",
    "    \n",
    "    # Run chimera forward model\n",
    "    foo = chimera.fx_emis_flex(x, -1, gas_scale, XSECS, thermochemical_equilibrium=False, PIE=True)\n",
    "    y_binned,y_mod,wno,atm,Ftoa,Fstar,Fstar_TOA,Fup_therm,Fup_ref= foo\n",
    "\n",
    "    # Convert fluxes to Earth distances\n",
    "    Fstar_earth = Fstar*( Rstar * u.Rsun.in_units(u.m) / (d * u.pc.in_units(u.m)))**2\n",
    "    #Fplan_earth = Ftoa * ( Rp * u.Rjup.in_units(u.m) / (d * u.pc.in_units(u.m)))**2\n",
    "    Fplan_therm_earth = Fup_therm * ( Rp * u.Rjup.in_units(u.m) / (d * u.pc.in_units(u.m)))**2\n",
    "\n",
    "    # Sum flux components\n",
    "    Fobs = Fstar_earth + Fplan_therm_earth\n",
    "\n",
    "    return Fobs, Fstar_earth, Fplan_therm_earth\n",
    "\n",
    "#defining log-likelihood function\n",
    "# log-likelihood\n",
    "def loglike(theta):\n",
    "\n",
    "    y_binned, y_star, y_planet = run_pie_model_general(theta)\n",
    "\n",
    "    loglikelihood=-0.5*np.nansum((y_meas-y_binned)**2/y_err**2)  #your typical \"quadratic\" or \"chi-square\"\n",
    "\n",
    "    return loglikelihood, [y_binned, y_star, y_planet]\n",
    "\n",
    "def neg_loglike(theta):\n",
    "    ll, blobs = loglike(theta)\n",
    "    return -ll\n",
    "\n",
    "def logprob(theta):\n",
    "\n",
    "    lp = smarter.priors.get_lnprior(theta, PRIORS)\n",
    "\n",
    "    if np.isfinite(lp):\n",
    "        ll, blobs = loglike(theta)\n",
    "        return ll + lp\n",
    "\n",
    "    return -np.inf\n",
    "\n",
    "def neg_logprob(theta):\n",
    "    return -logprob(theta)\n",
    "\n",
    "def logprob_blobs(theta):\n",
    "\n",
    "    lp = smarter.priors.get_lnprior(theta, PRIORS)\n",
    "\n",
    "    if np.isfinite(lp):\n",
    "        try:\n",
    "            ll, blobs = loglike(theta)\n",
    "            return ll + lp, blobs\n",
    "        except pysynphot.exceptions.ParameterOutOfBounds:\n",
    "            pass\n",
    "\n",
    "    return -np.inf, [np.nan*np.ones_like(wl), np.nan*np.ones_like(wl), np.nan*np.ones_like(wl)]"
   ]
  },
  {
   "cell_type": "code",
   "execution_count": 40,
   "metadata": {},
   "outputs": [],
   "source": [
    "THETA_DEFAULTS[\"H2O\"] = -4.0\n",
    "THETA_DEFAULTS[\"CH4\"] = -10.0\n",
    "THETA_DEFAULTS[\"CO\"] = -4.0\n",
    "THETA_DEFAULTS[\"CO2\"] = -10.0\n",
    "THETA_DEFAULTS[\"NH3\"] = -10.0\n",
    "\n",
    "# Define Priors\n",
    "PRIORS = [\n",
    "    smarter.priors.GaussianPrior(THETA_DEFAULTS[\"Teff\"], 174.75, theta_name = \"Teff\", theta0 = THETA_DEFAULTS[\"Teff\"]),\n",
    "    smarter.priors.GaussianPrior(-0.05, 0.17, theta_name = \"logMH\", theta0 = THETA_DEFAULTS[\"logMH\"]),\n",
    "    smarter.priors.GaussianPrior(4.646, 0.052, theta_name = \"logg\", theta0 = THETA_DEFAULTS[\"logg\"]),\n",
    "    smarter.priors.GaussianPrior(THETA_DEFAULTS[\"Rstar\"], 0.0554, theta_name = \"Rstar\", theta0 = THETA_DEFAULTS[\"Rstar\"]),\n",
    "    smarter.priors.GaussianPrior(THETA_DEFAULTS[\"d\"], 0.3269, theta_name = \"d\", theta0 = THETA_DEFAULTS[\"d\"]),\n",
    "    smarter.priors.UniformPrior(300., 3000., theta_name = \"Tirr\", theta0 = THETA_DEFAULTS[\"Tirr\"]),\n",
    "    smarter.priors.UniformPrior(-3.0, 0.0, theta_name = \"logKir\", theta0 = THETA_DEFAULTS[\"logKir\"]),\n",
    "    smarter.priors.UniformPrior(-3.0, 1.0, theta_name = \"logg1\", theta0 = THETA_DEFAULTS[\"logg1\"]),\n",
    "    smarter.priors.UniformPrior(-15.0, 0.0, theta_name = \"H2O\", theta0 = THETA_DEFAULTS[\"H2O\"]), \n",
    "    smarter.priors.UniformPrior(-15.0, 0.0, theta_name = \"CH4\", theta0 = THETA_DEFAULTS[\"CH4\"]), \n",
    "    smarter.priors.UniformPrior(-15.0, 0.0, theta_name = \"CO\", theta0 = THETA_DEFAULTS[\"CO\"]), \n",
    "    smarter.priors.UniformPrior(-15.0, 0.0, theta_name = \"CO2\", theta0 = THETA_DEFAULTS[\"CO2\"]), \n",
    "    smarter.priors.UniformPrior(-15.0, 0.0, theta_name = \"NH3\", theta0 = THETA_DEFAULTS[\"NH3\"]), \n",
    "    #smarter.priors.UniformPrior(-1.5, 3.0, theta_name = \"logMet\", theta0 = THETA_DEFAULTS[\"logMet\"]),   # valid range is -1.5 - 3.0\n",
    "    #smarter.priors.UniformPrior(-1.0, 0.3, theta_name = \"logCtoO\", theta0 = THETA_DEFAULTS[\"logCtoO\"]), # valid range is -1.0 - 0.3\n",
    "    #smarter.priors.UniformPrior(-6.0, 1.5, theta_name = \"logPQCarbon\", theta0 = THETA_DEFAULTS[\"logPQCarbon\"]), # valid range -6.0 - 1.5\n",
    "    #smarter.priors.UniformPrior(-6.0, 1.5, theta_name = \"logPQNitrogen\", theta0 = THETA_DEFAULTS[\"logPQNitrogen\"]),\n",
    "    smarter.priors.GaussianPrior(0.93, 0.08, theta_name = \"Rp\", theta0 = THETA_DEFAULTS[\"Rp\"]),\n",
    "]\n",
    "\n",
    "# Get state vector parameter names\n",
    "THETA_NAMES = [prior.theta_name for prior in PRIORS]\n",
    "\n",
    "# Get Truth values\n",
    "THETA0 = [prior.theta0 for prior in PRIORS]"
   ]
  },
  {
   "cell_type": "code",
   "execution_count": 41,
   "metadata": {},
   "outputs": [
    {
     "data": {
      "text/plain": [
       "['Teff',\n",
       " 'logMH',\n",
       " 'logg',\n",
       " 'Rstar',\n",
       " 'd',\n",
       " 'Tirr',\n",
       " 'logKir',\n",
       " 'logg1',\n",
       " 'H2O',\n",
       " 'CH4',\n",
       " 'CO',\n",
       " 'CO2',\n",
       " 'NH3',\n",
       " 'Rp']"
      ]
     },
     "execution_count": 41,
     "metadata": {},
     "output_type": "execute_result"
    }
   ],
   "source": [
    "THETA_NAMES"
   ]
  },
  {
   "cell_type": "code",
   "execution_count": 42,
   "metadata": {},
   "outputs": [],
   "source": [
    "Fobs, Fstar_earth, Fplan_therm_earth = run_pie_model_general(THETA0)"
   ]
  },
  {
   "cell_type": "code",
   "execution_count": 46,
   "metadata": {},
   "outputs": [
    {
     "data": {
      "text/plain": [
       "<ErrorbarContainer object of 3 artists>"
      ]
     },
     "execution_count": 46,
     "metadata": {},
     "output_type": "execute_result"
    },
    {
     "data": {
      "image/png": "[encoded data removed]",
      "text/plain": [
       "<Figure size 800x500 with 1 Axes>"
      ]
     },
     "metadata": {
      "image/png": {
       "height": 431,
       "width": 720
      },
      "needs_background": "light"
     },
     "output_type": "display_data"
    }
   ],
   "source": [
    "plt.plot(wl, Fplan_therm_earth/Fstar_earth)\n",
    "plt.errorbar(wl, y_binned/Fstar_earth - 1, yerr = (y_err/Fstar_earth), fmt = \".k\")"
   ]
  },
  {
   "cell_type": "code",
   "execution_count": null,
   "metadata": {},
   "outputs": [],
   "source": []
  }
 ],
 "metadata": {
  "kernelspec": {
   "display_name": "Python 3",
   "language": "python",
   "name": "python3"
  },
  "language_info": {
   "codemirror_mode": {
    "name": "ipython",
    "version": 3
   },
   "file_extension": ".py",
   "mimetype": "text/x-python",
   "name": "python",
   "nbconvert_exporter": "python",
   "pygments_lexer": "ipython3",
   "version": "3.8.3"
  }
 },
 "nbformat": 4,
 "nbformat_minor": 4
}
